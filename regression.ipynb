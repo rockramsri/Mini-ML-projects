{
 "cells": [
  {
   "cell_type": "code",
   "execution_count": 2,
   "metadata": {},
   "outputs": [],
   "source": [
    "import pandas as pd\n",
    "import numpy as np"
   ]
  },
  {
   "cell_type": "code",
   "execution_count": 32,
   "metadata": {},
   "outputs": [
    {
     "name": "stderr",
     "output_type": "stream",
     "text": [
      "<>:1: SyntaxWarning: invalid escape sequence '\\M'\n",
      "<>:1: SyntaxWarning: invalid escape sequence '\\M'\n",
      "C:\\Users\\sriram\\AppData\\Local\\Temp\\ipykernel_1292\\1431776903.py:1: SyntaxWarning: invalid escape sequence '\\M'\n",
      "  swdf=pd.read_csv(\"D:\\Ml projects\\Basic ML projects\\Datasets\\Summary of Weather.csv\",delimiter=',')\n"
     ]
    },
    {
     "name": "stdout",
     "output_type": "stream",
     "text": [
      "     STA      Date Precip  WindGustSpd    MaxTemp    MinTemp   MeanTemp  \\\n",
      "0  10001  1942-7-1  1.016          NaN  25.555556  22.222222  23.888889   \n",
      "1  10001  1942-7-2      0          NaN  28.888889  21.666667  25.555556   \n",
      "2  10001  1942-7-3   2.54          NaN  26.111111  22.222222  24.444444   \n",
      "3  10001  1942-7-4   2.54          NaN  26.666667  22.222222  24.444444   \n",
      "4  10001  1942-7-5      0          NaN  26.666667  21.666667  24.444444   \n",
      "\n",
      "  Snowfall PoorWeather  YR  ...  FB  FTI ITH  PGT  TSHDSBRSGF  SD3  RHX  RHN  \\\n",
      "0      0.0         NaN  42  ... NaN  NaN NaN  NaN         NaN  NaN  NaN  NaN   \n",
      "1      0.0         NaN  42  ... NaN  NaN NaN  NaN         NaN  NaN  NaN  NaN   \n",
      "2      0.0         NaN  42  ... NaN  NaN NaN  NaN         NaN  NaN  NaN  NaN   \n",
      "3      0.0         NaN  42  ... NaN  NaN NaN  NaN         NaN  NaN  NaN  NaN   \n",
      "4      0.0         NaN  42  ... NaN  NaN NaN  NaN         NaN  NaN  NaN  NaN   \n",
      "\n",
      "  RVG  WTE  \n",
      "0 NaN  NaN  \n",
      "1 NaN  NaN  \n",
      "2 NaN  NaN  \n",
      "3 NaN  NaN  \n",
      "4 NaN  NaN  \n",
      "\n",
      "[5 rows x 31 columns]\n"
     ]
    },
    {
     "name": "stderr",
     "output_type": "stream",
     "text": [
      "C:\\Users\\sriram\\AppData\\Local\\Temp\\ipykernel_1292\\1431776903.py:1: DtypeWarning: Columns (7,8,18,25) have mixed types. Specify dtype option on import or set low_memory=False.\n",
      "  swdf=pd.read_csv(\"D:\\Ml projects\\Basic ML projects\\Datasets\\Summary of Weather.csv\",delimiter=',')\n"
     ]
    }
   ],
   "source": [
    "swdf=pd.read_csv(\"D:\\Ml projects\\Basic ML projects\\Datasets\\Summary of Weather.csv\",delimiter=',')\n",
    "print(swdf.head())"
   ]
  },
  {
   "cell_type": "code",
   "execution_count": 33,
   "metadata": {},
   "outputs": [
    {
     "name": "stdout",
     "output_type": "stream",
     "text": [
      "<class 'pandas.core.frame.DataFrame'>\n",
      "RangeIndex: 119040 entries, 0 to 119039\n",
      "Data columns (total 31 columns):\n",
      " #   Column       Non-Null Count   Dtype  \n",
      "---  ------       --------------   -----  \n",
      " 0   STA          119040 non-null  int64  \n",
      " 1   Date         119040 non-null  object \n",
      " 2   Precip       119040 non-null  object \n",
      " 3   WindGustSpd  532 non-null     float64\n",
      " 4   MaxTemp      119040 non-null  float64\n",
      " 5   MinTemp      119040 non-null  float64\n",
      " 6   MeanTemp     119040 non-null  float64\n",
      " 7   Snowfall     117877 non-null  object \n",
      " 8   PoorWeather  34237 non-null   object \n",
      " 9   YR           119040 non-null  int64  \n",
      " 10  MO           119040 non-null  int64  \n",
      " 11  DA           119040 non-null  int64  \n",
      " 12  PRCP         117108 non-null  object \n",
      " 13  DR           533 non-null     float64\n",
      " 14  SPD          532 non-null     float64\n",
      " 15  MAX          118566 non-null  float64\n",
      " 16  MIN          118572 non-null  float64\n",
      " 17  MEA          118542 non-null  float64\n",
      " 18  SNF          117877 non-null  object \n",
      " 19  SND          5563 non-null    float64\n",
      " 20  FT           0 non-null       float64\n",
      " 21  FB           0 non-null       float64\n",
      " 22  FTI          0 non-null       float64\n",
      " 23  ITH          0 non-null       float64\n",
      " 24  PGT          525 non-null     float64\n",
      " 25  TSHDSBRSGF   34237 non-null   object \n",
      " 26  SD3          0 non-null       float64\n",
      " 27  RHX          0 non-null       float64\n",
      " 28  RHN          0 non-null       float64\n",
      " 29  RVG          0 non-null       float64\n",
      " 30  WTE          0 non-null       float64\n",
      "dtypes: float64(20), int64(4), object(7)\n",
      "memory usage: 28.2+ MB\n"
     ]
    }
   ],
   "source": [
    "swdf.info()"
   ]
  },
  {
   "cell_type": "markdown",
   "metadata": {},
   "source": [
    "Removing Columns with only Null values"
   ]
  },
  {
   "cell_type": "code",
   "execution_count": 34,
   "metadata": {},
   "outputs": [
    {
     "name": "stdout",
     "output_type": "stream",
     "text": [
      "<class 'pandas.core.frame.DataFrame'>\n",
      "RangeIndex: 119040 entries, 0 to 119039\n",
      "Data columns (total 22 columns):\n",
      " #   Column       Non-Null Count   Dtype  \n",
      "---  ------       --------------   -----  \n",
      " 0   STA          119040 non-null  int64  \n",
      " 1   Date         119040 non-null  object \n",
      " 2   Precip       119040 non-null  object \n",
      " 3   WindGustSpd  532 non-null     float64\n",
      " 4   MaxTemp      119040 non-null  float64\n",
      " 5   MinTemp      119040 non-null  float64\n",
      " 6   MeanTemp     119040 non-null  float64\n",
      " 7   Snowfall     117877 non-null  object \n",
      " 8   PoorWeather  34237 non-null   object \n",
      " 9   YR           119040 non-null  int64  \n",
      " 10  MO           119040 non-null  int64  \n",
      " 11  DA           119040 non-null  int64  \n",
      " 12  PRCP         117108 non-null  object \n",
      " 13  DR           533 non-null     float64\n",
      " 14  SPD          532 non-null     float64\n",
      " 15  MAX          118566 non-null  float64\n",
      " 16  MIN          118572 non-null  float64\n",
      " 17  MEA          118542 non-null  float64\n",
      " 18  SNF          117877 non-null  object \n",
      " 19  SND          5563 non-null    float64\n",
      " 20  PGT          525 non-null     float64\n",
      " 21  TSHDSBRSGF   34237 non-null   object \n",
      "dtypes: float64(11), int64(4), object(7)\n",
      "memory usage: 20.0+ MB\n"
     ]
    }
   ],
   "source": [
    "swdf.drop(columns=['FT','FB','FTI','ITH','SD3','RHX','RHN','RVG','WTE'],inplace=True)\n",
    "swdf.info()"
   ]
  },
  {
   "cell_type": "markdown",
   "metadata": {},
   "source": [
    "Removing Non Informatic columns"
   ]
  },
  {
   "cell_type": "code",
   "execution_count": 49,
   "metadata": {},
   "outputs": [],
   "source": [
    "swdf.drop(columns=['TSHDSBRSGF','SND'],inplace=True)"
   ]
  },
  {
   "cell_type": "code",
   "execution_count": 50,
   "metadata": {},
   "outputs": [
    {
     "data": {
      "text/plain": [
       "array([ nan, 10.2,  1.1, 10.4, 11.6,  9.6, 22. , 18.1,  2.4,  2.8, 14.5,\n",
       "       20.5, 22.7, 15.4,  9.9,  1.8, 13.4,  9.3, 23.5,  1.2,  5.6, 10.3,\n",
       "        4.2, 14.7, 23.2, 22.5, 21.4, 12.7,  5.7,  5.9, 18.8, 14.8, 11.9,\n",
       "        3.8, 17.3, 21.5,  7.7, 21.1,  0.2, 14.1, 17.7, 12.5, 22.8,  6.6,\n",
       "       17.9, 10.1,  7.9, 23.1, 21.9,  1.3, 11.3, 16.1,  0.9,  0.1, 17. ,\n",
       "       19.7, 15.2, 13.1,  1.7, 20. ,  9. , 23.9, 11.2, 10.6, 13. , 10.7,\n",
       "       11.4,  7.4,  3. , 18.4, 16.4,  7.6, 14.6, 10. ,  3.1, 10.5, 16. ,\n",
       "        4.5,  6.5, 12.3, 23.7, 16.3,  9.7, 20.7, 12.8,  3.5, 18. ,  8.7,\n",
       "        9.4, 21.3, 19.9, 22.4, 18.2, 22.1, 14.3,  4.7,  0.6, 21.8,  2.1,\n",
       "        6. , 17.8, 13.6,  8.9, 23.4, 13.5,  3.6, 17.5,  8.4, 11.8, 16.5,\n",
       "        5.2,  7.2,  3.9, 17.4, 17.2,  4.8, 20.9, 23.6,  9.1, 16.7, 23.3,\n",
       "        8. ,  2.5,  8.3, 20.6, 23.8,  5.4,  8.6, 14.2,  3.4,  4.4,  0. ,\n",
       "        8.2, 19.6, 21.6,  7.5, 15. , 14.9,  3.2,  8.8, 12.2, 12.6,  3.7,\n",
       "       19.2,  8.1, 14.4, 20.8, 22.6, 22.3, 11.5, 15.6,  2.7, 12. , 19.5,\n",
       "       15.3,  6.4, 21.7, 16.9,  7.3,  1.9, 12.4, 10.8,  9.5, 22.2,  0.3,\n",
       "       19. , 19.4, 22.9,  7. , 16.2,  4.6, 23. , 14. , 15.5,  8.5, 11. ,\n",
       "       21. ,  4.3,  5. ,  5.5])"
      ]
     },
     "execution_count": 50,
     "metadata": {},
     "output_type": "execute_result"
    }
   ],
   "source": [
    "swdf['PGT'].unique()"
   ]
  },
  {
   "cell_type": "code",
   "execution_count": null,
   "metadata": {},
   "outputs": [],
   "source": []
  }
 ],
 "metadata": {
  "kernelspec": {
   "display_name": "Python 3",
   "language": "python",
   "name": "python3"
  },
  "language_info": {
   "codemirror_mode": {
    "name": "ipython",
    "version": 3
   },
   "file_extension": ".py",
   "mimetype": "text/x-python",
   "name": "python",
   "nbconvert_exporter": "python",
   "pygments_lexer": "ipython3",
   "version": "3.12.1"
  }
 },
 "nbformat": 4,
 "nbformat_minor": 2
}
